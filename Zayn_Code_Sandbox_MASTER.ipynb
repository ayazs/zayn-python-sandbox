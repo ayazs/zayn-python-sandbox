{
  "nbformat": 4,
  "nbformat_minor": 0,
  "metadata": {
    "colab": {
      "name": "Zayn Code Sandbox - MASTER.ipynb",
      "provenance": [],
      "collapsed_sections": [],
      "toc_visible": true,
      "authorship_tag": "ABX9TyPM6GDzjpCTtA7DFgwrifKg",
      "include_colab_link": true
    },
    "kernelspec": {
      "name": "python3",
      "display_name": "Python 3"
    }
  },
  "cells": [
    {
      "cell_type": "markdown",
      "metadata": {
        "id": "view-in-github",
        "colab_type": "text"
      },
      "source": [
        "<a href=\"https://colab.research.google.com/github/ayazs/zayn-python-sandbox/blob/master/Zayn_Code_Sandbox_MASTER.ipynb\" target=\"_parent\"><img src=\"https://colab.research.google.com/assets/colab-badge.svg\" alt=\"Open In Colab\"/></a>"
      ]
    },
    {
      "cell_type": "markdown",
      "metadata": {
        "id": "-F_YZhG1k-7z",
        "colab_type": "text"
      },
      "source": [
        "<h1>Welcome to Zayn's coding sandbox!</h1>\n",
        "This is a Colab notebook, which is Google's implementation of Jupyter. A notebook is a great way to combine text and code together so that you can organize your coding ideas and experiment with them. \n",
        "\n",
        "We'll use Colab together to learn more about programming in Python. Watch this [Introduction to Colab](https://www.youtube.com/watch?v=inN8seMm7UI) to learn more about how it works.\n",
        "\n"
      ]
    },
    {
      "cell_type": "markdown",
      "metadata": {
        "id": "6cWEouQGl8iq",
        "colab_type": "text"
      },
      "source": [
        "# **Variables**\n",
        "Every programming language provides variables, which are sometimes just called \"vars\". Vars are important because they allow the programmer to keep a handle on the data and objects used in their computer program.\n",
        "\n",
        "One easy way to understand a var is to think of it as a box. Computer programs have lots of things that need to be kept organized, and each var is a labelled box that you can put somthing in."
      ]
    },
    {
      "cell_type": "markdown",
      "metadata": {
        "id": "qUA8sRms3Dv5",
        "colab_type": "text"
      },
      "source": [
        "Here's a variable that holds some text:"
      ]
    },
    {
      "cell_type": "code",
      "metadata": {
        "id": "qAqQu7aH3G8O",
        "colab_type": "code",
        "colab": {}
      },
      "source": [
        "greeting = 'Hello'"
      ],
      "execution_count": null,
      "outputs": []
    },
    {
      "cell_type": "markdown",
      "metadata": {
        "id": "w57MAK2BnMQ0",
        "colab_type": "text"
      },
      "source": [
        "Here's another var called `myNumber` that's initialized to hold Zayn's favourite number:"
      ]
    },
    {
      "cell_type": "code",
      "metadata": {
        "id": "awzxpp7Ck2Ui",
        "colab_type": "code",
        "colab": {}
      },
      "source": [
        "myNumber = 4"
      ],
      "execution_count": null,
      "outputs": []
    },
    {
      "cell_type": "markdown",
      "metadata": {
        "id": "spzh17XinrSM",
        "colab_type": "text"
      },
      "source": [
        "Here's a var holding another number:"
      ]
    },
    {
      "cell_type": "code",
      "metadata": {
        "id": "4ihAChLHn4rf",
        "colab_type": "code",
        "colab": {}
      },
      "source": [
        "anotherVar = 9"
      ],
      "execution_count": null,
      "outputs": []
    },
    {
      "cell_type": "markdown",
      "metadata": {
        "id": "KCCZxzNun-qq",
        "colab_type": "text"
      },
      "source": [
        "Vars can be combined to create other values. \n",
        "\n",
        "---\n",
        "\n",
        "\n",
        "*Click the play button to the left of the code cell below to run the code. Did you get an error? That's probably because you need to run the code cells above first. Otherwise, the vars referred to below will not have been initialized.*"
      ]
    },
    {
      "cell_type": "code",
      "metadata": {
        "id": "I_oTIF8YoJC3",
        "colab_type": "code",
        "colab": {}
      },
      "source": [
        "myNumber + anotherVar"
      ],
      "execution_count": null,
      "outputs": []
    },
    {
      "cell_type": "markdown",
      "metadata": {
        "id": "3uGZhlgFpU4A",
        "colab_type": "text"
      },
      "source": [
        "<h4>Exercise 1</h4>\n",
        "*Write your own code that performs some operations with the vars as instructed below.*\n",
        "\n",
        "> **Did you know?** *In Python, anything written after a hash (#) sign is a commend, and is ignored by the Python interpreter.*"
      ]
    },
    {
      "cell_type": "code",
      "metadata": {
        "id": "RR3SJvO0q-WC",
        "colab_type": "code",
        "colab": {}
      },
      "source": [
        "# Write code below that multiplies myNumber with anotherVar (using *)\n",
        "\n"
      ],
      "execution_count": null,
      "outputs": []
    },
    {
      "cell_type": "code",
      "metadata": {
        "id": "0kJtQb8zAjC0",
        "colab_type": "code",
        "colab": {}
      },
      "source": [
        "# Now subtract myNumber from anotherVar (using -)\n",
        "\n",
        "\n"
      ],
      "execution_count": null,
      "outputs": []
    },
    {
      "cell_type": "code",
      "metadata": {
        "id": "T78zRGfkAlZp",
        "colab_type": "code",
        "colab": {}
      },
      "source": [
        "# Create a variable named 'blurp' (without the quotation marks) that stores the \n",
        "# result of dividing 1 by anotherVar (using /)\n",
        "\n"
      ],
      "execution_count": null,
      "outputs": []
    },
    {
      "cell_type": "code",
      "metadata": {
        "id": "lhUku9S-At0n",
        "colab_type": "code",
        "colab": {}
      },
      "source": [
        "# Now multiply myNumber, anotherVar and your variable above together. What do \n",
        "# you notice about the answer?\n",
        "## (Hint: if you have performed the steps correctly, you should see your \n",
        "## favourite number displayed again!)\n",
        "\n"
      ],
      "execution_count": null,
      "outputs": []
    },
    {
      "cell_type": "markdown",
      "metadata": {
        "id": "EVrFtJzRs8CW",
        "colab_type": "text"
      },
      "source": [
        "# **Types of variables**\n",
        "So far, you understand that variables are boxes that have names and that you can put values inside them and manipulate them. Type is another important property of a variable.\n",
        "\n",
        "When you first assign a value to a variable, the var takes on the *type* of the value that has been assigned to it. Type refers to both the kind of value that a variable stores, which also determines how Python stores it in the computer's memory and whether or not the value can be changed (also known as *mutability*).\n",
        "\n",
        "Each of the variables in Exercise 1 is a number, but Python distinguishes between different types of numbers."
      ]
    },
    {
      "cell_type": "code",
      "metadata": {
        "id": "aPfQMMhquC5t",
        "colab_type": "code",
        "colab": {}
      },
      "source": [
        "# Run this code to see what type of variable myNumber is\n",
        "type(myNumber)"
      ],
      "execution_count": null,
      "outputs": []
    },
    {
      "cell_type": "markdown",
      "metadata": {
        "id": "sq3SC71OxZaG",
        "colab_type": "text"
      },
      "source": [
        "## Numeric types\n",
        "If the code ran correctly, it should have printed 'int'. But what is an *int*?\n",
        "\n",
        "Int is short for 'integer', which is a fancy word to describe all whole numbers from negative infinity to positive infinity. Integers are numbers like **1**, **7**, **19**, and **26 083 395**. They also include the number **0** and all whole negative numbers like **-28**, **-1**, **-9 563**.\n",
        "\n",
        "So what kind of number is not an interger? Any non-whole number that must be expressed as a decimal like **7.3**, **-93.60758**, or **0.3147329**. Fractions, like $\\frac{1}{3}$ and $-\\frac{2}{7}$ are also not stored as *int* variables.\n",
        "\n",
        "So if these non-whole numbers are not of type *int*, then what are they? Write some code below to discover the answer."
      ]
    },
    {
      "cell_type": "markdown",
      "metadata": {
        "id": "2hE1pmBc2UVG",
        "colab_type": "text"
      },
      "source": [
        "<h4>Exercise 2 </h4>\n",
        "\n",
        "*Use the* type() *function to write code that reveals the types of the variables we saw above.*\n",
        "\n"
      ]
    },
    {
      "cell_type": "code",
      "metadata": {
        "id": "0J86GLJ932-q",
        "colab_type": "code",
        "colab": {}
      },
      "source": [
        "# What variable type is anotherVar ?\n",
        "\n"
      ],
      "execution_count": null,
      "outputs": []
    },
    {
      "cell_type": "code",
      "metadata": {
        "id": "cKUqBZiVA95q",
        "colab_type": "code",
        "colab": {}
      },
      "source": [
        "# Can you guess what type greeting is?\n",
        "\n",
        "\n"
      ],
      "execution_count": null,
      "outputs": []
    },
    {
      "cell_type": "code",
      "metadata": {
        "id": "8DBSOeJhBAJX",
        "colab_type": "code",
        "colab": {}
      },
      "source": [
        "# What about the type of the blurp var?\n",
        "\n",
        "\n"
      ],
      "execution_count": null,
      "outputs": []
    },
    {
      "cell_type": "markdown",
      "metadata": {
        "id": "kRWoZNXk74qh",
        "colab_type": "text"
      },
      "source": [
        "From the results of your code above, you will have discovered a few different variables types: *int*, *str* and *float*.\n",
        "\n",
        "We've already discussed *int*. The *float* type is another number type that is used to hold the kinds of non-whole numbers that we talked about above.\n",
        "\n",
        "The third variable type that we've discovered in Exercise 2 is *str*, which is short for 'string'. A string is a variable that holds a string of characters, like a word a sentence or even an entire text document."
      ]
    },
    {
      "cell_type": "markdown",
      "metadata": {
        "id": "Txnhs3-2EZOS",
        "colab_type": "text"
      },
      "source": [
        "## Strings\n",
        "Python treats strings and numeric types very differently. And if you think about it, that makes sense.\n",
        "\n",
        "There are things you can do with numbers that you can't do with text. There is also stuff that you might want do with text that wouldn't be very useful with numbers.\n",
        "\n",
        "For example, adding two numbers together makes sense for numbers. But you wouldn't ever try to add two words together... or would you?\n",
        "\n",
        "Let's take a closer look at _strings_, which are variables that contain text."
      ]
    },
    {
      "cell_type": "markdown",
      "metadata": {
        "id": "z3yDK1je7D4E",
        "colab_type": "text"
      },
      "source": [
        "Earlier in this notebook, we saw a string variable called ``greeting``. Let's have a look at what it contains:"
      ]
    },
    {
      "cell_type": "code",
      "metadata": {
        "id": "jVyWFYIB7VvA",
        "colab_type": "code",
        "colab": {}
      },
      "source": [
        "# Run this cell to see what's inside greeting\n",
        "greeting"
      ],
      "execution_count": null,
      "outputs": []
    },
    {
      "cell_type": "markdown",
      "metadata": {
        "id": "iW4pOh_i8hW3",
        "colab_type": "text"
      },
      "source": [
        "Looking at the result above, you can see that in Pythin, a string of text is specificied by placing the text inside a pair of single quotes, like this:\n",
        "\n",
        "```greeting = 'Hello'```\n",
        "\n",
        "Let's see what _you_ can do with strings!"
      ]
    },
    {
      "cell_type": "markdown",
      "metadata": {
        "id": "SLLYvqJo9UWK",
        "colab_type": "text"
      },
      "source": [
        "<h4>Exercise 3.1</h4>\n",
        "\n",
        "*Complete the string coding tasks below.*\n"
      ]
    },
    {
      "cell_type": "code",
      "metadata": {
        "id": "5dzrkA0G9lvU",
        "colab_type": "code",
        "colab": {}
      },
      "source": [
        "# Create a new string called name and set it to your own name\n",
        "\n"
      ],
      "execution_count": null,
      "outputs": []
    },
    {
      "cell_type": "code",
      "metadata": {
        "id": "YlPqrICe7euw",
        "colab_type": "code",
        "colab": {}
      },
      "source": [
        "# Change the greeting variable to contain 'Hi'\n",
        "\n"
      ],
      "execution_count": null,
      "outputs": []
    },
    {
      "cell_type": "code",
      "metadata": {
        "id": "rheJF1ez8W3X",
        "colab_type": "code",
        "colab": {}
      },
      "source": [
        "# Run the code below to see what happens when the two strings are added together\n",
        "\n"
      ],
      "execution_count": null,
      "outputs": []
    },
    {
      "cell_type": "markdown",
      "metadata": {
        "id": "tifxT_v4-VZ6",
        "colab_type": "text"
      },
      "source": [
        "So string math is possible! Let's see what else you can do with strings."
      ]
    },
    {
      "cell_type": "code",
      "metadata": {
        "id": "6S9x2fEi-KnU",
        "colab_type": "code",
        "colab": {}
      },
      "source": [
        "# Can you find a way to add a string between greeting and name so that\n",
        "# the two words are not glued together?\n",
        "\n"
      ],
      "execution_count": null,
      "outputs": []
    },
    {
      "cell_type": "code",
      "metadata": {
        "id": "Ala4UlXK-3DY",
        "colab_type": "code",
        "colab": {}
      },
      "source": [
        "# Great! Now store the combined string in a new variable called greetingSentence\n",
        "\n",
        "greetingSentence = ''"
      ],
      "execution_count": null,
      "outputs": []
    },
    {
      "cell_type": "code",
      "metadata": {
        "id": "CSrXZDYJ_gnv",
        "colab_type": "code",
        "colab": {}
      },
      "source": [
        "# Let's print greetingSentence using the print() function\n",
        "\n",
        "print(greetingSentence)"
      ],
      "execution_count": null,
      "outputs": []
    },
    {
      "cell_type": "markdown",
      "metadata": {
        "id": "YdWP6pBfBG4Z",
        "colab_type": "text"
      },
      "source": [
        "Did you notice that the ``print()`` function displays the string without the surrounding quotation marks? That's because ``print()`` prints out the content of a string, and that doesn't include quotation marks. The quotation marks are only used by the programmer (that's you!) to tell Python where the string starts and where it ends.\n",
        "\n",
        "In Python, strings can be _delimited_ using either single quotation or double quotation marks. \n",
        "\n",
        "```\n",
        "myString = 'Single quotation mark string'\n",
        "myString = \"Now I'm using double quotation marks.\"\n",
        "```\n",
        "\n",
        "You can use whichever quotation mark style you want as long as the pair of quotation marks match (single-single and double-double).\n",
        "\n"
      ]
    },
    {
      "cell_type": "markdown",
      "metadata": {
        "id": "xJhSqc1MDNRg",
        "colab_type": "text"
      },
      "source": [
        "<h4>Exercise 3.2</h4>\n",
        "\n",
        "In Exercise 3.1, you created a couple of strings and saw how they can be combined together. You also got to try out the ``print()`` function. Let's see what else we can learn about strings. "
      ]
    },
    {
      "cell_type": "code",
      "metadata": {
        "id": "ycWnSS4r_oAM",
        "colab_type": "code",
        "colab": {}
      },
      "source": [
        "# Run this cell to create two string variables and print a third string that \n",
        "# combines them together.\n",
        "\n",
        "fruit1 = 'apples'\n",
        "fruit2 ='bananas'\n",
        "print(fruit1 + ' and ' + fruit2)"
      ],
      "execution_count": null,
      "outputs": []
    },
    {
      "cell_type": "code",
      "metadata": {
        "id": "sGHGOQwsEYO9",
        "colab_type": "code",
        "colab": {}
      },
      "source": [
        "# Now, change fruit1 to 'oranges'\n",
        "\n"
      ],
      "execution_count": null,
      "outputs": []
    },
    {
      "cell_type": "code",
      "metadata": {
        "id": "aOHUZmLJEldj",
        "colab_type": "code",
        "colab": {}
      },
      "source": [
        "# What do you think this line of code with print? Run the cell and see if you were right.\n",
        "\n",
        "print(fruit1 + ' and ' + fruit2)"
      ],
      "execution_count": null,
      "outputs": []
    },
    {
      "cell_type": "code",
      "metadata": {
        "id": "K6VCWpxgE5-u",
        "colab_type": "code",
        "colab": {}
      },
      "source": [
        "# Now let's try something different. This cell creates another string variable\n",
        "# called theFruits and prints the contents of the new variable.\n",
        "#\n",
        "# What do you think it will print? Run the cell to see.\n",
        "\n",
        "theFruits = fruit1 + ' and ' + fruit2\n",
        "print(theFruits)"
      ],
      "execution_count": null,
      "outputs": []
    },
    {
      "cell_type": "code",
      "metadata": {
        "id": "sXEGUSQZFHJt",
        "colab_type": "code",
        "colab": {}
      },
      "source": [
        "# Now write code to change fruit2 to pears. Then use the print() function three \n",
        "# times (on separate lines) to print the value of fruit1, fruit2, and theFruits. \n",
        "#\n",
        "# What do you expect to see printed?\n",
        "\n"
      ],
      "execution_count": null,
      "outputs": []
    },
    {
      "cell_type": "markdown",
      "metadata": {
        "id": "BrJEWGAFGBwG",
        "colab_type": "text"
      },
      "source": [
        "Did ``theFruits`` contain what what you expected? Why did Python behave this way?\n",
        "\n",
        "Variables in Python are kept separate from one another. This is true whether they are *strings*, *ints* or variable of another type. \n",
        "\n",
        "When you assign one variable to another, it copies the contents between the variables. Each variable has its own copy of the contents and can be changed independent of the other.\n",
        "\n",
        "But what if you want to be able to combine strings in a way that updates using the most recent value of the string variables? Let's look at how to embed values in a string."
      ]
    },
    {
      "cell_type": "markdown",
      "metadata": {
        "id": "lDr1PjzoKVjs",
        "colab_type": "text"
      },
      "source": [
        "<h4>Exercise 3.3</h4>\n",
        "\n",
        "Let's say that we want to create a string that will introduce a person by their name and age. But there are lots of people to introduce, and each person has their own name and age.\n",
        "\n",
        "We'll start by defining a ``name`` variable and an ``age`` variable to store the current person's name and age."
      ]
    },
    {
      "cell_type": "code",
      "metadata": {
        "id": "cK-TWt9jI9fh",
        "colab_type": "code",
        "colab": {}
      },
      "source": [
        "# Create a variable called name and set it to your name.\n",
        "\n",
        "\n",
        "# Create a variable called age and set it to your age.\n",
        "\n"
      ],
      "execution_count": null,
      "outputs": []
    },
    {
      "cell_type": "code",
      "metadata": {
        "id": "MzB8aNT3LW7E",
        "colab_type": "code",
        "colab": {}
      },
      "source": [
        "# We want to create a third variable that will print a sentence containing whatever \n",
        "# name and age is in the name and age variables. Let's try this to start. \n",
        "\n",
        "myNameAndAge = 'My name is ' + str(name) + ' and I am ' + str(age) + ' years old.'\n",
        "print(myNameAndAge)\n",
        "\n",
        "## NOTE: The str() function tells Python to treat the value of a variable as a\n",
        "## string, no matter what it's actual type is.\n",
        "\n",
        "# What's the problem with defining the myNameAndAge variable this way? Will the \n",
        "# printed value update if you change the name and age variables?"
      ],
      "execution_count": null,
      "outputs": []
    },
    {
      "cell_type": "code",
      "metadata": {
        "id": "v2UxTr08LsO-",
        "colab_type": "code",
        "colab": {}
      },
      "source": [
        "# Let's try defining myNameAndAge differently:\n",
        "\n",
        "myNameAndAge = 'My name is %s and I am %s years old.'"
      ],
      "execution_count": null,
      "outputs": []
    },
    {
      "cell_type": "code",
      "metadata": {
        "id": "Em5L3kjHN0yY",
        "colab_type": "code",
        "colab": {}
      },
      "source": [
        "# What do you think will be displayed if you print it?\n",
        "\n",
        "print(myNameAndAge)"
      ],
      "execution_count": null,
      "outputs": []
    },
    {
      "cell_type": "markdown",
      "metadata": {
        "id": "hVcaOaIOOCpm",
        "colab_type": "text"
      },
      "source": [
        "Hmm... so what was the point of that? Well, those ``%s`` symbols are in fact placeholders. If you use the ``print()`` command a bit differently, it will enable you to embed the ``name`` and ``age`` variables in their place."
      ]
    },
    {
      "cell_type": "code",
      "metadata": {
        "id": "NBIkhlO9OliQ",
        "colab_type": "code",
        "colab": {}
      },
      "source": [
        "# What do you think will happen when you run this cell?\n",
        "\n",
        "print(myNameAndAge % (name, age))"
      ],
      "execution_count": null,
      "outputs": []
    },
    {
      "cell_type": "markdown",
      "metadata": {
        "id": "L8kFQQS6aaEw",
        "colab_type": "text"
      },
      "source": [
        "*Whoa!* How did that happen?\n",
        "\n",
        "Well, as noted above, each ``%s`` is a placeholder that tells the ``%`` operator to replace it with another value. Those values are enclosed in the ``(`` parentheses ``)``.\n",
        "\n",
        "Even though we used the ``print()`` function above, the ``%`` operator in Python works on it's own too. Experiment with the following code to learn more about how it works."
      ]
    },
    {
      "cell_type": "code",
      "metadata": {
        "id": "cq-SdDF-O1dN",
        "colab_type": "code",
        "colab": {}
      },
      "source": [
        "# What do you think will happen when you run this cell?\n",
        "\n",
        "myNameAndAge % (name, age)"
      ],
      "execution_count": null,
      "outputs": []
    },
    {
      "cell_type": "code",
      "metadata": {
        "id": "-Fk0YhCAcHlc",
        "colab_type": "code",
        "colab": {}
      },
      "source": [
        "# Change the name variable to contain someone else's name\n",
        "\n"
      ],
      "execution_count": null,
      "outputs": []
    },
    {
      "cell_type": "code",
      "metadata": {
        "id": "OxvT5TKNcgiY",
        "colab_type": "code",
        "colab": {}
      },
      "source": [
        "# Now try running the % operator again.\n",
        "\n"
      ],
      "execution_count": null,
      "outputs": []
    },
    {
      "cell_type": "code",
      "metadata": {
        "id": "6_W9KYMncoqx",
        "colab_type": "code",
        "colab": {}
      },
      "source": [
        "# What do you think will happen in each line of code in this cell? What will the \n",
        "# final output be?\n",
        "\n",
        "anotherNameAndAge = myNameAndAge % (name, age)\n",
        "name = \"Blah\"\n",
        "print(anotherNameAndAge)"
      ],
      "execution_count": null,
      "outputs": []
    },
    {
      "cell_type": "markdown",
      "metadata": {
        "id": "_KOyUoj4d2kn",
        "colab_type": "text"
      },
      "source": [
        "So now you have learnt about strings and how string operators like ``+`` and ``%`` behave on strings in ways that make sense for this variable type. Not all operators work with strings, but with some operators you can do cool things. "
      ]
    },
    {
      "cell_type": "markdown",
      "metadata": {
        "id": "wiLkGQVyibWR",
        "colab_type": "text"
      },
      "source": [
        "<h4>Exercise 4</h4>\n",
        "\n",
        "*Use the code cell below to experiment with different operators.*"
      ]
    },
    {
      "cell_type": "code",
      "metadata": {
        "id": "6S8imQlHfMNs",
        "colab_type": "code",
        "colab": {}
      },
      "source": [
        "# You've already seen how the addition operator works. Try completing the \n",
        "# following exercises.\n",
        "\n",
        "# Add two numbers (try 5 and 7)\n",
        "\n",
        "\n",
        "# Add two words together (try 'hello' and 'world')\n",
        "\n",
        "\n",
        "# Add a word to a number (try 'hello' and 5)\n",
        "\n",
        "\n",
        "# Add a number to a word (try 7 and 'world')\n",
        "\n"
      ],
      "execution_count": null,
      "outputs": []
    },
    {
      "cell_type": "code",
      "metadata": {
        "id": "YxrxZOlSfqKD",
        "colab_type": "code",
        "colab": {}
      },
      "source": [
        "# What worked above, and what didn't work? How could you use the str() function \n",
        "# to fix any errors that you encountered? \n",
        "\n",
        "# If you can't remember what str() does, try experimenting with it below and \n",
        "# come up with a way to solve the string and number addition problem.\n",
        "\n"
      ],
      "execution_count": null,
      "outputs": []
    },
    {
      "cell_type": "code",
      "metadata": {
        "id": "Ukoz_vjFgauR",
        "colab_type": "code",
        "colab": {}
      },
      "source": [
        "# So you understand how the addition operator works with strings. Do you think \n",
        "# the subtraction (minus) operator will work with strings? Try to predict what \n",
        "# you think will happen befor you try it.\n",
        "\n",
        "# Subtract two numbers (try 9 and 4)\n",
        "\n",
        "\n",
        "# Subtract two strings (try 'hello world' and 'world')\n",
        "\n",
        "\n",
        "# Subtract a word from a number (try 9 and 'hello')\n",
        "\n",
        "\n",
        "# Subtract a number from a word (try 'world' and 4)\n",
        "\n"
      ],
      "execution_count": null,
      "outputs": []
    },
    {
      "cell_type": "code",
      "metadata": {
        "id": "nhE9cuC2h6vo",
        "colab_type": "code",
        "colab": {}
      },
      "source": [
        "# Division. Try to predict what will happen befor you try it.\n",
        "\n",
        "# Divide two numbers (try 10 and 5)\n",
        "\n",
        "\n",
        "# Divide two words (try 'hello' and 'world')\n",
        "\n",
        "\n",
        "# Divide a word by a number (try 'hello' and 10)\n",
        "\n",
        "\n",
        "# Divide a number by a word (try 5 and 'world')\n",
        "\n"
      ],
      "execution_count": null,
      "outputs": []
    }
  ]
}